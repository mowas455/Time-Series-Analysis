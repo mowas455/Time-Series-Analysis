{
 "cells": [
  {
   "cell_type": "code",
   "execution_count": 1,
   "metadata": {},
   "outputs": [],
   "source": [
    "import numpy as np"
   ]
  },
  {
   "cell_type": "code",
   "execution_count": null,
   "metadata": {},
   "outputs": [],
   "source": []
  },
  {
   "cell_type": "code",
   "execution_count": 3,
   "metadata": {},
   "outputs": [],
   "source": [
    "# ?np.random.randn"
   ]
  },
  {
   "cell_type": "markdown",
   "metadata": {},
   "source": [
    "## Calculate Wt function\n",
    "\n",
    "$g(y_t|\\alpha_t)= \\mathcal{N}(y_t|0,b^2\\exp^{\\alpha_t})$"
   ]
  },
  {
   "cell_type": "code",
   "execution_count": 4,
   "metadata": {},
   "outputs": [],
   "source": [
    "def logwgtfun():\n",
    "    pass\n",
    "def propagate(alpha,a,s2):\n",
    "    \"\"\"Returns new params\"\"\"\n",
    "    pass"
   ]
  },
  {
   "cell_type": "code",
   "execution_count": 5,
   "metadata": {},
   "outputs": [],
   "source": [
    "def bootstrap(y,N,a,s2,b2):\n",
    "    n = len(y)\n",
    "    particles = np.zeros((n,N))\n",
    "    logWts = np.zeros((n,N))\n",
    "    ests = np.zeros((n,2)) # Estimate of mean and varinace\n",
    "    logWts[0,:] = logwgtfun(y[0], particles[0,:], b2)\n",
    "    \n",
    "    for i in range(n-1):\n",
    "        # Resample\n",
    "        # With replacement, probs are set to log weights\n",
    "        ind = np.random.choice(N,size=N,  replace = True, prob = np.exp(logwgt[i,:])/np.sum(np.exp(logwgt[i,:])))\n",
    "        # Propogate\n",
    "        # i+1 is the new time-step\n",
    "        particles[i+1,:] = propagate(particles[i,ind],a,s2,N)\n",
    "        \n",
    "        # Weight\n",
    "        logwgt[i+1,:] = logwgtfun(y[i+1], particles[i+1,:], b2)\n",
    "        \n",
    "    return logwgt, particles"
   ]
  },
  {
   "cell_type": "code",
   "execution_count": 6,
   "metadata": {},
   "outputs": [],
   "source": [
    "N= 100\n",
    "\n",
    "logwgt, particles = bootstrapp(y,N,a,s2,b2)"
   ]
  },
  {
   "cell_type": "code",
   "execution_count": 7,
   "metadata": {},
   "outputs": [],
   "source": [
    "# Draw estimates\n",
    "ests = np.zeros((n,2))\n",
    "\n",
    "for i in range(n):\n",
    "    wgt = np.exp(logwgt[i,:])/ np.sum(np.exp(logwgt[i,:]))\n",
    "    ests[i,0] = np.sum(wgt*particles[i,:]) # mean\n",
    "    ests[i,1] = np.sum(wgt*particles[i,:]**2) - ests[i,0]\n",
    "    "
   ]
  },
  {
   "cell_type": "markdown",
   "metadata": {},
   "source": [
    "## EM ALgo\n",
    "\n",
    "- 4 sufficient statistics to be estimated(look at notes!"
   ]
  },
  {
   "cell_type": "code",
   "execution_count": 8,
   "metadata": {},
   "outputs": [],
   "source": [
    "def fizedLagSmoothing(y,N,a,s2,b2):\n",
    "    n = len(y)\n",
    "    particles = np.zeros((n,N))\n",
    "    logWts = np.zeros((n,N))\n",
    "    wgt = np.zeros((n,N))\n",
    "    \n",
    "    # Values at time t=0\n",
    "    particles[0,:] = np.random.randn(N)\n",
    "    logwgt[0,:] = logwgtfun(y[0], particles[0,:], b2)\n",
    "    wgt[0,:] = np.exp(logwgt[0,:])/ np.sum(np.exp(logwgt[0,:]))\n",
    "    \n",
    "    ## Sufficient statistics\n",
    "    T1=T2=T3=T4 = 0\n",
    "    \n",
    "    for i in range(n-1):\n",
    "        # Resample\n",
    "        # With replacement, probs are set to log weights\n",
    "        ind = np.random.choice(N,size=N,  replace = True, prob = np.exp(logwgt[i,:])/np.sum(np.exp(logwgt[i,:])))\n",
    "        particles = particles[:,ind] # copy particles\n",
    "        # Propogate\n",
    "        # i+1 is the new time-step\n",
    "        particles[i+1,:] = propagate(particles[i,ind],a,s2,N) # Calc particle at t\n",
    "        \n",
    "        # Weight: Calc Weights at t\n",
    "        logwgt[i+1,:] = logwgtfun(y[i+1], particles[i+1,:], b2)\n",
    "        wgt[i+1,:] = np.exp(logwgt[i+1,:])/np.sum(np.exp(logwgt[i+1,:]))\n",
    "        ## lag smoothing\n",
    "        if i >= lag:\n",
    "            T1 += np.sum(wgt[i+1]* particles[i+1-lag,:]**2)\n",
    "            T2 += np.sum(wgt[i+1]* particles[i+1-lag,:]*particles[i-lag,:])\n",
    "            T3 += np.sum(wgt[i+1]* particles[i-lag,:]**2)\n",
    "            T4 += np.sum(wgt[i+1]*y[i-lag]**2 * np.exp(-particles[i-lag,:]))\n",
    "    \n",
    "    for i in range(lag):\n",
    "        T1 += np.sum(wgt[i+1]* particles[i+1-lag,:]**2)\n",
    "        T2 += np.sum(wgt[i+1]* particles[i+1-lag,:]*particles[i-lag,:])\n",
    "        T3 += np.sum(wgt[i+1]* particles[i-lag,:]**2)\n",
    "        T4 += np.sum(wgt[i+1]*y[i-lag]**2 * np.exp(-particles[i-lag,:]))\n",
    "    T4 += np.sum(wgt[n-1]*y[n-1]**2 * np.exp(-particles[n-1,:])) # at T4 is from t=1, rest are from t=2\n",
    "    \n",
    "    return T1,T2,T3,T4"
   ]
  },
  {
   "cell_type": "markdown",
   "metadata": {},
   "source": [
    "### Next Run EM Algo"
   ]
  },
  {
   "cell_type": "code",
   "execution_count": null,
   "metadata": {},
   "outputs": [],
   "source": [
    "# No of iters is set\n",
    "# Vectors to save variables in each iter is set\n",
    "# variables are initialized\n",
    "\n",
    "# Set N and lag\n",
    "\n",
    "for i in range(N):\n",
    "    # Get sufficient statistics\n",
    "    # Use the formula to update a,s2,b2"
   ]
  }
 ],
 "metadata": {
  "kernelspec": {
   "display_name": "Python 3",
   "language": "python",
   "name": "python3"
  },
  "language_info": {
   "codemirror_mode": {
    "name": "ipython",
    "version": 3
   },
   "file_extension": ".py",
   "mimetype": "text/x-python",
   "name": "python",
   "nbconvert_exporter": "python",
   "pygments_lexer": "ipython3",
   "version": "3.8.5"
  }
 },
 "nbformat": 4,
 "nbformat_minor": 4
}
